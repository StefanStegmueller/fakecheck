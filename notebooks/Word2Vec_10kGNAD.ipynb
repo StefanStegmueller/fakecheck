{
 "cells": [
  {
   "cell_type": "markdown",
   "metadata": {},
   "source": [
    "## Word2Vec model training\n",
    "The dataset used for training is 10kGNAD.\n",
    "To train yourself download the [repositiory](https://github.com/tblock/10kGNAD) and copy articles.csv into the *data* directory."
   ]
  },
  {
   "cell_type": "code",
   "execution_count": 59,
   "metadata": {},
   "outputs": [
    {
     "name": "stderr",
     "output_type": "stream",
     "text": [
      "[nltk_data] Downloading package punkt to /home/stefan/nltk_data...\n",
      "[nltk_data]   Package punkt is already up-to-date!\n"
     ]
    }
   ],
   "source": [
    "import csv\n",
    "import nltk as nk\n",
    "from nltk import sent_tokenize, word_tokenize\n",
    "from gensim.models import Word2Vec\n",
    "from gensim.utils import simple_preprocess\n",
    "\n",
    "nk.download('punkt')\n",
    "\n",
    "DATA_PATH = '../data/10kGNAD.csv'\n",
    "MODEL_PATH = '../models/w2v.model'\n",
    "VECTOR_SIZE = 150\n",
    "WINDOW_SIZE = 10\n",
    "MIN_COUNT = 1\n",
    "WORKERS = 4\n",
    "EPOCHS = 10"
   ]
  },
  {
   "cell_type": "code",
   "execution_count": 60,
   "metadata": {},
   "outputs": [],
   "source": [
    "# Read data and throw away classification tags\n",
    "def read_data(path):\n",
    "    with open(path, newline='') as csvfile:\n",
    "        reader = csv.reader(csvfile, delimiter=';')\n",
    "        for row in reader:\n",
    "            yield simple_preprocess(row[1])"
   ]
  },
  {
   "cell_type": "code",
   "execution_count": 62,
   "metadata": {},
   "outputs": [],
   "source": [
    "data = read_data(DATA_PATH)\n",
    "model = Word2Vec(list(data), size=VECTOR_SIZE, window=WINDOW_SIZE, min_count=MIN_COUNT, workers=WORKERS, iter=EPOCHS)\n",
    "model.save(MODEL_PATH)"
   ]
  },
  {
   "cell_type": "code",
   "execution_count": 63,
   "metadata": {},
   "outputs": [
    {
     "data": {
      "text/plain": [
       "[('zeitraum', 0.6520761251449585),\n",
       " ('modus', 0.6418164372444153),\n",
       " ('prototypen', 0.6307494044303894),\n",
       " ('tiebreak', 0.6286041736602783),\n",
       " ('verlauf', 0.6243057250976562)]"
      ]
     },
     "execution_count": 63,
     "metadata": {},
     "output_type": "execute_result"
    }
   ],
   "source": [
    "model.wv.most_similar(positive=['test'], topn=5)"
   ]
  }
 ],
 "metadata": {
  "kernelspec": {
   "display_name": "Python 3",
   "language": "python",
   "name": "python3"
  },
  "language_info": {
   "codemirror_mode": {
    "name": "ipython",
    "version": 3
   },
   "file_extension": ".py",
   "mimetype": "text/x-python",
   "name": "python",
   "nbconvert_exporter": "python",
   "pygments_lexer": "ipython3",
   "version": "3.8.6"
  }
 },
 "nbformat": 4,
 "nbformat_minor": 4
}
